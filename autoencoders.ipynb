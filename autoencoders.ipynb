{
 "cells": [
  {
   "cell_type": "markdown",
   "id": "3c22dba2-d672-4968-9f27-8cde387be124",
   "metadata": {},
   "source": [
    "# Autoencoders"
   ]
  },
  {
   "cell_type": "code",
   "execution_count": 1,
   "id": "d19e8cca-d21d-4869-89f1-7027874185ad",
   "metadata": {},
   "outputs": [],
   "source": [
    "import numpy as np\n",
    "import matplotlib.pyplot as plt\n",
    "from scipy.stats import norm\n",
    "import tensorflow as tf"
   ]
  },
  {
   "cell_type": "code",
   "execution_count": 2,
   "id": "799a0181-8b35-437a-80cf-8776abf960a7",
   "metadata": {},
   "outputs": [],
   "source": [
    "from keras.layers import Input, Dense, Lambda, Reshape\n",
    "from keras.models import Model\n",
    "from keras import backend as K\n",
    "from keras import metrics\n",
    "from keras.datasets import mnist"
   ]
  },
  {
   "cell_type": "markdown",
   "id": "ca8d3cd7-d153-448d-91f8-279fa00c64b5",
   "metadata": {},
   "source": [
    "## Setting Hyper-Parameters "
   ]
  },
  {
   "cell_type": "code",
   "execution_count": 3,
   "id": "c4e3ebe2-4f61-4d6e-8c5e-f8c959e2dd85",
   "metadata": {},
   "outputs": [],
   "source": [
    "batch_size = 50\n",
    "original_dim = 784\n",
    "latent_dim = 2\n",
    "intermediate_dim = 256\n",
    "epochs = 10\n",
    "epsilon_std = 1.0"
   ]
  },
  {
   "cell_type": "markdown",
   "id": "4c8a1deb-7874-4a0c-af3f-fd4d3dd59484",
   "metadata": {},
   "source": [
    "## Sampling helper function\n"
   ]
  },
  {
   "cell_type": "code",
   "execution_count": 4,
   "id": "0d861c4f-6c14-4373-824c-0f407aaccaf8",
   "metadata": {},
   "outputs": [],
   "source": [
    "def sampling(args: tuple):\n",
    "    # we grab the variables from the tuple\n",
    "    z_mean, z_log_var = args\n",
    "    epsilon = K.random_normal(shape=(K.shape(z_mean)[0], latent_dim), mean=0.,\n",
    "                              stddev=epsilon_std)\n",
    "    return z_mean + K.exp(z_log_var / 2) * epsilon"
   ]
  },
  {
   "cell_type": "code",
   "execution_count": null,
   "id": "0b61ffa0-d4be-4c8d-bcde-d113cdcb585d",
   "metadata": {},
   "outputs": [],
   "source": []
  },
  {
   "cell_type": "code",
   "execution_count": null,
   "id": "fe172bd5-6c42-436c-ae42-e274bf64f089",
   "metadata": {},
   "outputs": [],
   "source": []
  },
  {
   "cell_type": "code",
   "execution_count": null,
   "id": "509246ce-65a2-40ee-ad55-e7db8203869f",
   "metadata": {},
   "outputs": [],
   "source": []
  },
  {
   "cell_type": "code",
   "execution_count": null,
   "id": "005db2f5-a46b-49d2-9fa1-5e23ca43dbb5",
   "metadata": {},
   "outputs": [],
   "source": []
  }
 ],
 "metadata": {
  "kernelspec": {
   "display_name": "Python (env)",
   "language": "python",
   "name": "env"
  },
  "language_info": {
   "codemirror_mode": {
    "name": "ipython",
    "version": 3
   },
   "file_extension": ".py",
   "mimetype": "text/x-python",
   "name": "python",
   "nbconvert_exporter": "python",
   "pygments_lexer": "ipython3",
   "version": "3.12.7"
  }
 },
 "nbformat": 4,
 "nbformat_minor": 5
}
